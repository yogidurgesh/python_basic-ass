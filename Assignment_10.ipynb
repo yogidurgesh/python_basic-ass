{
 "cells": [
  {
   "cell_type": "markdown",
   "id": "0e0fd67f",
   "metadata": {},
   "source": [
    "# 1. How do you distinguish between shutil.copy() and shutil.copytree()?"
   ]
  },
  {
   "cell_type": "markdown",
   "id": "e17d5c28",
   "metadata": {},
   "source": [
    "shutil.copy : Copies a single file"
   ]
  },
  {
   "cell_type": "markdown",
   "id": "06631be7",
   "metadata": {},
   "source": [
    "shutil.copytree() : will copy an entire folder and every folder and file contained "
   ]
  },
  {
   "cell_type": "markdown",
   "id": "69157b01",
   "metadata": {},
   "source": [
    "# 2. What function is used to rename files??"
   ]
  },
  {
   "cell_type": "code",
   "execution_count": 1,
   "id": "503dd5b1",
   "metadata": {},
   "outputs": [],
   "source": [
    "import os"
   ]
  },
  {
   "cell_type": "code",
   "execution_count": 2,
   "id": "aa414148",
   "metadata": {},
   "outputs": [
    {
     "ename": "FileNotFoundError",
     "evalue": "[WinError 2] The system cannot find the file specified: 'text.txt' -> 'testnew.txt'",
     "output_type": "error",
     "traceback": [
      "\u001b[1;31m---------------------------------------------------------------------------\u001b[0m",
      "\u001b[1;31mFileNotFoundError\u001b[0m                         Traceback (most recent call last)",
      "Input \u001b[1;32mIn [2]\u001b[0m, in \u001b[0;36m<cell line: 1>\u001b[1;34m()\u001b[0m\n\u001b[1;32m----> 1\u001b[0m \u001b[43mos\u001b[49m\u001b[38;5;241;43m.\u001b[39;49m\u001b[43mrename\u001b[49m\u001b[43m(\u001b[49m\u001b[38;5;124;43m\"\u001b[39;49m\u001b[38;5;124;43mtext.txt\u001b[39;49m\u001b[38;5;124;43m\"\u001b[39;49m\u001b[43m,\u001b[49m\u001b[38;5;124;43m\"\u001b[39;49m\u001b[38;5;124;43mtestnew.txt\u001b[39;49m\u001b[38;5;124;43m\"\u001b[39;49m\u001b[43m)\u001b[49m\n",
      "\u001b[1;31mFileNotFoundError\u001b[0m: [WinError 2] The system cannot find the file specified: 'text.txt' -> 'testnew.txt'"
     ]
    }
   ],
   "source": [
    "os.rename(\"text.txt\",\"testnew.txt\")"
   ]
  },
  {
   "cell_type": "markdown",
   "id": "5b923dd5",
   "metadata": {},
   "source": [
    "# 3. What is the difference between the delete functions in the send2trash and shutil modules?"
   ]
  },
  {
   "cell_type": "markdown",
   "id": "dfbc2da6",
   "metadata": {},
   "source": [
    "import shutil  \n",
    "shutil.retree():\n",
    "The shutil module’s rmtree() function can be used to delete files or folders. But, this function delete the files\n",
    "permanently. \n",
    "The operations cannot be undone if there were any accidental deletions performed "
   ]
  },
  {
   "cell_type": "code",
   "execution_count": null,
   "id": "f4d46f25",
   "metadata": {
    "scrolled": true
   },
   "outputs": [],
   "source": [
    "pip install shutil"
   ]
  },
  {
   "cell_type": "code",
   "execution_count": null,
   "id": "bfcc3a79",
   "metadata": {},
   "outputs": [],
   "source": [
    "pip install send2trash"
   ]
  },
  {
   "cell_type": "markdown",
   "id": "7f79f2e3",
   "metadata": {},
   "source": [
    "import send2trash\n",
    "send2trash.send2trash() : Using send2trash, we can send files to the Trash or Recycle Bin instead of permanently \n",
    "deleting them."
   ]
  },
  {
   "cell_type": "code",
   "execution_count": null,
   "id": "1b1a5506",
   "metadata": {},
   "outputs": [],
   "source": [
    "import shutil\n",
    "import send2trash\n",
    "shutil.rmtree(\"path\")\n",
    "send2trash.send2trash(\"path\")"
   ]
  },
  {
   "cell_type": "markdown",
   "id": "f1eb87bf",
   "metadata": {},
   "source": [
    "# 4. ZipFile objects have a close() method just like File objects’ close() method. What ZipFile method is equivalent to File objects’ open() method?"
   ]
  },
  {
   "cell_type": "markdown",
   "id": "616e5aba",
   "metadata": {},
   "source": [
    "from zipfile import Zipfile\n",
    "with ZipFile(file_name, 'r') as zip: -> this code will open specified zipfile for us. we can use zip objext to preform oother operation the ziplife. like zip.read()"
   ]
  },
  {
   "cell_type": "code",
   "execution_count": null,
   "id": "5d55191e",
   "metadata": {},
   "outputs": [],
   "source": [
    "from zipfile import Zipfile\n",
    "with ZipFile(file_name, 'r') as zip"
   ]
  }
 ],
 "metadata": {
  "kernelspec": {
   "display_name": "Python 3 (ipykernel)",
   "language": "python",
   "name": "python3"
  },
  "language_info": {
   "codemirror_mode": {
    "name": "ipython",
    "version": 3
   },
   "file_extension": ".py",
   "mimetype": "text/x-python",
   "name": "python",
   "nbconvert_exporter": "python",
   "pygments_lexer": "ipython3",
   "version": "3.9.12"
  }
 },
 "nbformat": 4,
 "nbformat_minor": 5
}
