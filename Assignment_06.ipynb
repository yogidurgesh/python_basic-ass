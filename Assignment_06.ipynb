{
 "cells": [
  {
   "cell_type": "markdown",
   "id": "81a79533",
   "metadata": {},
   "source": [
    "# 1. What are escape characters, and how do you use them?"
   ]
  },
  {
   "cell_type": "markdown",
   "id": "9243bc1a",
   "metadata": {},
   "source": [
    "In Python strings, the backslash \"\\\" is a special character, also called the \"escape\" character.\n",
    "it is used to character: '\\t' is tab, '\\n' is new line."
   ]
  },
  {
   "cell_type": "code",
   "execution_count": 1,
   "id": "6e15578d",
   "metadata": {},
   "outputs": [
    {
     "name": "stdout",
     "output_type": "stream",
     "text": [
      "its sunday\n"
     ]
    }
   ],
   "source": [
    "print(\"its sunday\")"
   ]
  },
  {
   "cell_type": "code",
   "execution_count": 3,
   "id": "917e7718",
   "metadata": {},
   "outputs": [
    {
     "name": "stdout",
     "output_type": "stream",
     "text": [
      "its's sunday\n"
     ]
    }
   ],
   "source": [
    "print('its\\'s sunday')"
   ]
  },
  {
   "cell_type": "markdown",
   "id": "06a2ec43",
   "metadata": {},
   "source": [
    "# 2. What do the escape characters n and t stand for?"
   ]
  },
  {
   "cell_type": "markdown",
   "id": "b1d264bb",
   "metadata": {},
   "source": [
    " character: '\\t' is tab, '\\n' is new line"
   ]
  },
  {
   "cell_type": "markdown",
   "id": "971e7e51",
   "metadata": {},
   "source": [
    "# 3. What is the way to include backslash characters in a string?"
   ]
  },
  {
   "cell_type": "code",
   "execution_count": 4,
   "id": "3862f46b",
   "metadata": {},
   "outputs": [
    {
     "name": "stdout",
     "output_type": "stream",
     "text": [
      "its a back slash \\ in a sentence\n"
     ]
    }
   ],
   "source": [
    "print('its a back slash \\ in a sentence')"
   ]
  },
  {
   "cell_type": "markdown",
   "id": "fa11f328",
   "metadata": {},
   "source": [
    "# 4. The string \"Howl's Moving Castle\" is a correct value. Why isn't the single quote character in the word Howl's not escaped a problem?"
   ]
  },
  {
   "cell_type": "code",
   "execution_count": 7,
   "id": "488c2dc0",
   "metadata": {},
   "outputs": [],
   "source": [
    "#The single quote in Howl's is fine because you've used double quotes to mark the beginning and end of the string."
   ]
  },
  {
   "cell_type": "markdown",
   "id": "b0f720de",
   "metadata": {},
   "source": [
    "# 5. How do you write a string of newlines if you don&#39;t want to use the n character?"
   ]
  },
  {
   "cell_type": "markdown",
   "id": "780fe319",
   "metadata": {},
   "source": [
    "we can use the parameter end ='\\n' in print function"
   ]
  },
  {
   "cell_type": "code",
   "execution_count": 8,
   "id": "c7f4bc2d",
   "metadata": {},
   "outputs": [
    {
     "name": "stdout",
     "output_type": "stream",
     "text": [
      "printing in multiple lines\n",
      "newline\n"
     ]
    }
   ],
   "source": [
    "print(\"printing in multiple lines\",end = '\\n')\n",
    "print(\"newline\")"
   ]
  },
  {
   "cell_type": "markdown",
   "id": "7e934b34",
   "metadata": {},
   "source": [
    "# 6. What are the values of the given expressions?"
   ]
  },
  {
   "cell_type": "code",
   "execution_count": 9,
   "id": "858307be",
   "metadata": {},
   "outputs": [
    {
     "data": {
      "text/plain": [
       "'e'"
      ]
     },
     "execution_count": 9,
     "metadata": {},
     "output_type": "execute_result"
    }
   ],
   "source": [
    "'Hello, world!'[1]"
   ]
  },
  {
   "cell_type": "code",
   "execution_count": 13,
   "id": "c4f04724",
   "metadata": {},
   "outputs": [
    {
     "data": {
      "text/plain": [
       "'Hello'"
      ]
     },
     "execution_count": 13,
     "metadata": {},
     "output_type": "execute_result"
    }
   ],
   "source": [
    "'Hello, world!'[0:5]"
   ]
  },
  {
   "cell_type": "code",
   "execution_count": 14,
   "id": "d34610bd",
   "metadata": {},
   "outputs": [
    {
     "data": {
      "text/plain": [
       "'lo, world!'"
      ]
     },
     "execution_count": 14,
     "metadata": {},
     "output_type": "execute_result"
    }
   ],
   "source": [
    "'Hello, world!'[3:]"
   ]
  },
  {
   "cell_type": "markdown",
   "id": "dc9a3fb6",
   "metadata": {},
   "source": [
    "# 7. What are the values of the following expressions?"
   ]
  },
  {
   "cell_type": "code",
   "execution_count": 15,
   "id": "bce5b583",
   "metadata": {},
   "outputs": [
    {
     "data": {
      "text/plain": [
       "'HELLO'"
      ]
     },
     "execution_count": 15,
     "metadata": {},
     "output_type": "execute_result"
    }
   ],
   "source": [
    "'Hello'.upper()"
   ]
  },
  {
   "cell_type": "code",
   "execution_count": 16,
   "id": "bd27cda0",
   "metadata": {},
   "outputs": [
    {
     "data": {
      "text/plain": [
       "True"
      ]
     },
     "execution_count": 16,
     "metadata": {},
     "output_type": "execute_result"
    }
   ],
   "source": [
    "'Hello'.upper().isupper()"
   ]
  },
  {
   "cell_type": "code",
   "execution_count": 17,
   "id": "f19605c6",
   "metadata": {},
   "outputs": [
    {
     "data": {
      "text/plain": [
       "'hello'"
      ]
     },
     "execution_count": 17,
     "metadata": {},
     "output_type": "execute_result"
    }
   ],
   "source": [
    "'Hello'.upper().lower()"
   ]
  },
  {
   "cell_type": "markdown",
   "id": "e9f72e83",
   "metadata": {},
   "source": [
    "# 8. What are the values of the following expressions?"
   ]
  },
  {
   "cell_type": "markdown",
   "id": "6229bf9b",
   "metadata": {},
   "source": [
    "'Remember, remember, the fifth of July.'.split() -> splits with space and returns list of words\n",
    "'-'.join('There can only one.'.split()) splits with space and join with '_'"
   ]
  },
  {
   "cell_type": "code",
   "execution_count": 18,
   "id": "5d655aa3",
   "metadata": {},
   "outputs": [
    {
     "data": {
      "text/plain": [
       "['Remember,', 'remember,', 'the', 'fifth', 'of', 'July.']"
      ]
     },
     "execution_count": 18,
     "metadata": {},
     "output_type": "execute_result"
    }
   ],
   "source": [
    "'Remember, remember, the fifth of July.'.split()"
   ]
  },
  {
   "cell_type": "code",
   "execution_count": 19,
   "id": "64bce883",
   "metadata": {},
   "outputs": [
    {
     "data": {
      "text/plain": [
       "'There-can-only-one.'"
      ]
     },
     "execution_count": 19,
     "metadata": {},
     "output_type": "execute_result"
    }
   ],
   "source": [
    "'-'.join('There can only one.'.split())"
   ]
  },
  {
   "cell_type": "markdown",
   "id": "0f856235",
   "metadata": {},
   "source": [
    "# 9. What are the methods for right-justifying, left-justifying, and centering a string?"
   ]
  },
  {
   "cell_type": "code",
   "execution_count": 20,
   "id": "df4c4af1",
   "metadata": {},
   "outputs": [],
   "source": [
    "#The following methods are used for justifying strings"
   ]
  },
  {
   "cell_type": "code",
   "execution_count": 21,
   "id": "5b8ea2fd",
   "metadata": {},
   "outputs": [
    {
     "data": {
      "text/plain": [
       "'Hello-----'"
      ]
     },
     "execution_count": 21,
     "metadata": {},
     "output_type": "execute_result"
    }
   ],
   "source": [
    "# left justified\n",
    "str =\"Hello\"\n",
    "str.ljust(10,\"-\")"
   ]
  },
  {
   "cell_type": "code",
   "execution_count": 22,
   "id": "307a48d3",
   "metadata": {},
   "outputs": [
    {
     "data": {
      "text/plain": [
       "'*****************************How are you'"
      ]
     },
     "execution_count": 22,
     "metadata": {},
     "output_type": "execute_result"
    }
   ],
   "source": [
    "# right justified\n",
    "str =\"How are you\"\n",
    "str.rjust(40,'*')"
   ]
  },
  {
   "cell_type": "code",
   "execution_count": 23,
   "id": "fb58ffef",
   "metadata": {},
   "outputs": [
    {
     "data": {
      "text/plain": [
       "'**************How are you***************'"
      ]
     },
     "execution_count": 23,
     "metadata": {},
     "output_type": "execute_result"
    }
   ],
   "source": [
    "# center justified\n",
    "str =\"How are you\"\n",
    "str.center(40,'*')"
   ]
  },
  {
   "cell_type": "code",
   "execution_count": null,
   "id": "33356610",
   "metadata": {},
   "outputs": [],
   "source": []
  }
 ],
 "metadata": {
  "kernelspec": {
   "display_name": "Python 3 (ipykernel)",
   "language": "python",
   "name": "python3"
  },
  "language_info": {
   "codemirror_mode": {
    "name": "ipython",
    "version": 3
   },
   "file_extension": ".py",
   "mimetype": "text/x-python",
   "name": "python",
   "nbconvert_exporter": "python",
   "pygments_lexer": "ipython3",
   "version": "3.9.12"
  }
 },
 "nbformat": 4,
 "nbformat_minor": 5
}
